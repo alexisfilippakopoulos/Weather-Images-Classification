{
 "cells": [
  {
   "cell_type": "code",
   "execution_count": 25,
   "id": "45d6f27d",
   "metadata": {},
   "outputs": [],
   "source": [
    "import os\n",
    "import numpy as np\n",
    "import random\n",
    "import cv2\n",
    "import pandas as pd\n",
    "import matplotlib.pyplot as plt\n",
    "import tensorflow as tf\n",
    "from tensorflow.keras.models import Sequential\n",
    "from tensorflow.keras.layers import Conv2D, MaxPooling2D, Flatten, Dense, Dropout\n",
    "from tensorflow.keras.preprocessing.image import ImageDataGenerator, array_to_img, img_to_array, load_img\n",
    "from tensorflow.keras.callbacks import EarlyStopping, ModelCheckpoint"
   ]
  },
  {
   "cell_type": "code",
   "execution_count": 2,
   "id": "8c2aeaf6",
   "metadata": {},
   "outputs": [],
   "source": [
    "pathGeneral = os.path.join(os.getcwd(), 'dataset')\n",
    "img_size = 250\n",
    "categories = ['cloudy', 'foggy', 'rainy', 'shine', 'sunrise' ]"
   ]
  },
  {
   "cell_type": "code",
   "execution_count": 61,
   "id": "4264c5ec",
   "metadata": {},
   "outputs": [],
   "source": [
    "datagen = ImageDataGenerator(\n",
    "        rotation_range=30,\n",
    "        zoom_range=0.4,\n",
    "        horizontal_flip=True)"
   ]
  },
  {
   "cell_type": "code",
   "execution_count": 64,
   "id": "1d89d4b3",
   "metadata": {},
   "outputs": [],
   "source": [
    "for category in categories:\n",
    "    folder = os.path.join(pathGeneral, category)\n",
    "    label = categories.index(category)\n",
    "    for img in os.listdir(folder):\n",
    "        img_path = os.path.join(folder, img)\n",
    "        image = load_img(img_path)\n",
    "        x = img_to_array(image)\n",
    "        x = x.reshape((1,) + x.shape)\n",
    "        i=0\n",
    "        for batch in datagen.flow(x, batch_size = 1, save_to_dir = folder, save_prefix = category, save_format = 'jpg' ):\n",
    "            i+=1\n",
    "            if(i == 5):\n",
    "                break"
   ]
  },
  {
   "cell_type": "code",
   "execution_count": 3,
   "id": "84f9654b",
   "metadata": {},
   "outputs": [
    {
     "name": "stdout",
     "output_type": "stream",
     "text": [
      "OpenCV(4.6.0) D:\\a\\opencv-python\\opencv-python\\opencv\\modules\\imgproc\\src\\resize.cpp:4052: error: (-215:Assertion failed) !ssize.empty() in function 'cv::resize'\n",
      "\n",
      "OpenCV(4.6.0) D:\\a\\opencv-python\\opencv-python\\opencv\\modules\\imgproc\\src\\resize.cpp:4052: error: (-215:Assertion failed) !ssize.empty() in function 'cv::resize'\n",
      "\n"
     ]
    }
   ],
   "source": [
    "trainData = []\n",
    "\n",
    "for category in categories:\n",
    "    folder = os.path.join(pathGeneral, category)\n",
    "    label = categories.index(category)\n",
    "    for img in os.listdir(folder):\n",
    "        try:\n",
    "            img_path = os.path.join(folder, img)\n",
    "            img_array = cv2.imread(img_path)\n",
    "            img_array = cv2.resize(img_array, (img_size, img_size))\n",
    "            trainData.append([img_array, label])\n",
    "        #To handle this exception: -215:Assertion failed) !ssize.empty() in function 'cv::resize' \n",
    "        except Exception as e:\n",
    "            print(str(e))"
   ]
  },
  {
   "cell_type": "code",
   "execution_count": 4,
   "id": "2da9c15d",
   "metadata": {},
   "outputs": [],
   "source": [
    "random.shuffle(trainData)"
   ]
  },
  {
   "cell_type": "code",
   "execution_count": 5,
   "id": "d7d1446e",
   "metadata": {},
   "outputs": [
    {
     "data": {
      "text/plain": [
       "8442"
      ]
     },
     "execution_count": 5,
     "metadata": {},
     "output_type": "execute_result"
    }
   ],
   "source": [
    "len(trainData)"
   ]
  },
  {
   "cell_type": "code",
   "execution_count": 6,
   "id": "0d1a5b47",
   "metadata": {},
   "outputs": [],
   "source": [
    "Xtrain = []\n",
    "Ytrain = []\n",
    "\n",
    "for features,labels in trainData:\n",
    "    Xtrain.append(features)\n",
    "    Ytrain.append(labels)"
   ]
  },
  {
   "cell_type": "code",
   "execution_count": 7,
   "id": "58b4e7e1",
   "metadata": {},
   "outputs": [],
   "source": [
    "Xtrain = np.array(Xtrain)\n",
    "Ytrain = np.array(Ytrain)"
   ]
  },
  {
   "cell_type": "code",
   "execution_count": 8,
   "id": "5d2ecc77",
   "metadata": {},
   "outputs": [],
   "source": [
    "Xtrain = Xtrain / 255.0"
   ]
  },
  {
   "cell_type": "code",
   "execution_count": 9,
   "id": "aa940a09",
   "metadata": {},
   "outputs": [
    {
     "data": {
      "text/plain": [
       "(8442, 250, 250, 3)"
      ]
     },
     "execution_count": 9,
     "metadata": {},
     "output_type": "execute_result"
    }
   ],
   "source": [
    "Xtrain.shape"
   ]
  },
  {
   "cell_type": "code",
   "execution_count": 10,
   "id": "f42bab6b",
   "metadata": {},
   "outputs": [
    {
     "data": {
      "text/plain": [
       "(8442,)"
      ]
     },
     "execution_count": 10,
     "metadata": {},
     "output_type": "execute_result"
    }
   ],
   "source": [
    "Ytrain.shape"
   ]
  },
  {
   "cell_type": "code",
   "execution_count": 18,
   "id": "2cf18a6c",
   "metadata": {},
   "outputs": [
    {
     "name": "stdout",
     "output_type": "stream",
     "text": [
      "Model: \"sequential_1\"\n",
      "_________________________________________________________________\n",
      " Layer (type)                Output Shape              Param #   \n",
      "=================================================================\n",
      " conv2d_9 (Conv2D)           (None, 248, 248, 16)      448       \n",
      "                                                                 \n",
      " max_pooling2d_5 (MaxPooling  (None, 124, 124, 16)     0         \n",
      " 2D)                                                             \n",
      "                                                                 \n",
      " conv2d_10 (Conv2D)          (None, 122, 122, 32)      4640      \n",
      "                                                                 \n",
      " max_pooling2d_6 (MaxPooling  (None, 61, 61, 32)       0         \n",
      " 2D)                                                             \n",
      "                                                                 \n",
      " conv2d_11 (Conv2D)          (None, 59, 59, 64)        18496     \n",
      "                                                                 \n",
      " conv2d_12 (Conv2D)          (None, 57, 57, 64)        36928     \n",
      "                                                                 \n",
      " max_pooling2d_7 (MaxPooling  (None, 28, 28, 64)       0         \n",
      " 2D)                                                             \n",
      "                                                                 \n",
      " conv2d_13 (Conv2D)          (None, 26, 26, 128)       73856     \n",
      "                                                                 \n",
      " conv2d_14 (Conv2D)          (None, 24, 24, 128)       147584    \n",
      "                                                                 \n",
      " max_pooling2d_8 (MaxPooling  (None, 12, 12, 128)      0         \n",
      " 2D)                                                             \n",
      "                                                                 \n",
      " conv2d_15 (Conv2D)          (None, 10, 10, 256)       295168    \n",
      "                                                                 \n",
      " conv2d_16 (Conv2D)          (None, 8, 8, 256)         590080    \n",
      "                                                                 \n",
      " conv2d_17 (Conv2D)          (None, 6, 6, 256)         590080    \n",
      "                                                                 \n",
      " max_pooling2d_9 (MaxPooling  (None, 3, 3, 256)        0         \n",
      " 2D)                                                             \n",
      "                                                                 \n",
      " flatten_1 (Flatten)         (None, 2304)              0         \n",
      "                                                                 \n",
      " dense_3 (Dense)             (None, 512)               1180160   \n",
      "                                                                 \n",
      " dense_4 (Dense)             (None, 512)               262656    \n",
      "                                                                 \n",
      " dense_5 (Dense)             (None, 5)                 2565      \n",
      "                                                                 \n",
      "=================================================================\n",
      "Total params: 3,202,661\n",
      "Trainable params: 3,202,661\n",
      "Non-trainable params: 0\n",
      "_________________________________________________________________\n"
     ]
    }
   ],
   "source": [
    "model = Sequential([\n",
    "    Conv2D(16, (3, 3), activation='relu', input_shape=(img_size, img_size, 3)), MaxPooling2D(2, 2),\n",
    "    Conv2D(32, (3, 3), activation='relu'), MaxPooling2D(2, 2),\n",
    "    Conv2D(64, (3, 3), activation='relu'),\n",
    "    Conv2D(64, (3, 3), activation='relu'),\n",
    "    MaxPooling2D(2, 2),\n",
    "    Conv2D(128, (3, 3), activation='relu'),\n",
    "    Conv2D(128, (3, 3), activation='relu'),\n",
    "    MaxPooling2D(2, 2),\n",
    "    Conv2D(256, (3, 3), activation='relu'),\n",
    "    Conv2D(256, (3, 3), activation='relu'),\n",
    "    Conv2D(256, (3, 3), activation='relu'),\n",
    "    MaxPooling2D(2, 2),\n",
    "    Flatten(),\n",
    "    Dense(512, activation='relu'),\n",
    "    Dense(512, activation='relu'),\n",
    "    Dense(5, activation='softmax')\n",
    "])\n",
    "model.summary()"
   ]
  },
  {
   "cell_type": "code",
   "execution_count": 19,
   "id": "ac297442",
   "metadata": {},
   "outputs": [],
   "source": [
    "callbacks = EarlyStopping(monitor='val_loss', patience=5, verbose=1, mode='auto')"
   ]
  },
  {
   "cell_type": "code",
   "execution_count": 20,
   "id": "5d01cca5",
   "metadata": {},
   "outputs": [],
   "source": [
    "model.compile(optimizer='Adam', \n",
    "              loss='sparse_categorical_crossentropy', \n",
    "              metrics =['accuracy'])"
   ]
  },
  {
   "cell_type": "code",
   "execution_count": 21,
   "id": "2697893a",
   "metadata": {},
   "outputs": [
    {
     "name": "stdout",
     "output_type": "stream",
     "text": [
      "Epoch 1/15\n",
      "212/212 [==============================] - 242s 1s/step - loss: 1.3205 - accuracy: 0.3973 - val_loss: 1.1749 - val_accuracy: 0.5157\n",
      "Epoch 2/15\n",
      "212/212 [==============================] - 225s 1s/step - loss: 0.9704 - accuracy: 0.5552 - val_loss: 0.9498 - val_accuracy: 0.5494\n",
      "Epoch 3/15\n",
      "212/212 [==============================] - 226s 1s/step - loss: 0.9038 - accuracy: 0.5831 - val_loss: 0.9550 - val_accuracy: 0.6039\n",
      "Epoch 4/15\n",
      "212/212 [==============================] - 224s 1s/step - loss: 0.8215 - accuracy: 0.6604 - val_loss: 0.9683 - val_accuracy: 0.5974\n",
      "Epoch 5/15\n",
      "212/212 [==============================] - 226s 1s/step - loss: 0.8112 - accuracy: 0.6822 - val_loss: 0.8831 - val_accuracy: 0.6957\n",
      "Epoch 6/15\n",
      "212/212 [==============================] - 225s 1s/step - loss: 0.6816 - accuracy: 0.7422 - val_loss: 0.7353 - val_accuracy: 0.7117\n",
      "Epoch 7/15\n",
      "212/212 [==============================] - 226s 1s/step - loss: 0.6657 - accuracy: 0.7447 - val_loss: 0.6753 - val_accuracy: 0.7407\n",
      "Epoch 8/15\n",
      "212/212 [==============================] - 226s 1s/step - loss: 0.5741 - accuracy: 0.7893 - val_loss: 0.5273 - val_accuracy: 0.8034\n",
      "Epoch 9/15\n",
      "212/212 [==============================] - 225s 1s/step - loss: 0.5099 - accuracy: 0.8102 - val_loss: 0.5219 - val_accuracy: 0.8052\n",
      "Epoch 10/15\n",
      "212/212 [==============================] - 225s 1s/step - loss: 0.4785 - accuracy: 0.8229 - val_loss: 0.5825 - val_accuracy: 0.7691\n",
      "Epoch 11/15\n",
      "212/212 [==============================] - 225s 1s/step - loss: 0.4446 - accuracy: 0.8327 - val_loss: 0.6223 - val_accuracy: 0.7685\n",
      "Epoch 12/15\n",
      "212/212 [==============================] - 224s 1s/step - loss: 0.3998 - accuracy: 0.8553 - val_loss: 0.4071 - val_accuracy: 0.8472\n",
      "Epoch 13/15\n",
      "212/212 [==============================] - 225s 1s/step - loss: 0.3628 - accuracy: 0.8641 - val_loss: 0.8567 - val_accuracy: 0.7176\n",
      "Epoch 14/15\n",
      "212/212 [==============================] - 223s 1s/step - loss: 0.4408 - accuracy: 0.8356 - val_loss: 0.3812 - val_accuracy: 0.8674\n",
      "Epoch 15/15\n",
      "212/212 [==============================] - 223s 1s/step - loss: 0.3235 - accuracy: 0.8811 - val_loss: 0.4869 - val_accuracy: 0.8123\n"
     ]
    }
   ],
   "source": [
    "history = model.fit(Xtrain, Ytrain, epochs = 15, verbose=1, validation_split = 0.2, callbacks = [callbacks] )"
   ]
  },
  {
   "cell_type": "code",
   "execution_count": 16,
   "id": "cdfcd524",
   "metadata": {},
   "outputs": [
    {
     "name": "stderr",
     "output_type": "stream",
     "text": [
      "WARNING:absl:Found untraced functions such as _jit_compiled_convolution_op, _jit_compiled_convolution_op, _jit_compiled_convolution_op, _jit_compiled_convolution_op, _jit_compiled_convolution_op while saving (showing 5 of 9). These functions will not be directly callable after loading.\n"
     ]
    },
    {
     "name": "stdout",
     "output_type": "stream",
     "text": [
      "INFO:tensorflow:Assets written to: C:\\Users\\User\\Desktop\\Projects\\Weather-Classification\\bestModel\\assets\n"
     ]
    },
    {
     "name": "stderr",
     "output_type": "stream",
     "text": [
      "INFO:tensorflow:Assets written to: C:\\Users\\User\\Desktop\\Projects\\Weather-Classification\\bestModel\\assets\n"
     ]
    }
   ],
   "source": [
    "path = os.path.join(os.getcwd(),'bestModel')\n",
    "model.save(path)"
   ]
  },
  {
   "cell_type": "code",
   "execution_count": 22,
   "id": "9fa2b688",
   "metadata": {},
   "outputs": [
    {
     "data": {
      "image/png": "[encoded data removed]",
      "text/plain": [
       "<Figure size 1008x504 with 1 Axes>"
      ]
     },
     "metadata": {
      "needs_background": "light"
     },
     "output_type": "display_data"
    }
   ],
   "source": [
    "acc=history.history['accuracy']\n",
    "val_acc=history.history['val_accuracy']\n",
    "loss=history.history['loss']\n",
    "val_loss=history.history['val_loss']\n",
    "\n",
    "epochs=range(len(acc))\n",
    "\n",
    "fig = plt.figure(figsize=(14,7))\n",
    "plt.plot(epochs, acc, 'r', label=\"Training Accuracy\")\n",
    "plt.plot(epochs, val_acc, 'b', label=\"Validation Accuracy\")\n",
    "plt.xlabel('Epoch')\n",
    "plt.ylabel('Accuracy')\n",
    "plt.title('Training and validation accuracy')\n",
    "plt.legend(loc='lower right')\n",
    "plt.show()\n"
   ]
  },
  {
   "cell_type": "code",
   "execution_count": 23,
   "id": "557e7b99",
   "metadata": {},
   "outputs": [
    {
     "data": {
      "text/plain": [
       "Text(0.5, 1.0, 'Training and validation loss')"
      ]
     },
     "execution_count": 23,
     "metadata": {},
     "output_type": "execute_result"
    },
    {
     "data": {
      "image/png": "[encoded data removed]",
      "text/plain": [
       "<Figure size 1008x504 with 1 Axes>"
      ]
     },
     "metadata": {
      "needs_background": "light"
     },
     "output_type": "display_data"
    }
   ],
   "source": [
    "fig2 = plt.figure(figsize=(14,7))\n",
    "plt.plot(epochs, loss, 'r', label=\"Training Loss\")\n",
    "plt.plot(epochs, val_loss, 'b', label=\"Validation Loss\")\n",
    "plt.legend(loc='upper right')\n",
    "plt.xlabel('Epoch')\n",
    "plt.ylabel('Loss')\n",
    "plt.title('Training and validation loss')"
   ]
  },
  {
   "cell_type": "code",
   "execution_count": 26,
   "id": "2e6fb333",
   "metadata": {},
   "outputs": [],
   "source": [
    "pathTestData = os.path.join(os.getcwd(),'alien_test')\n",
    "pathTestLabels = os.path.join(os.getcwd(),'test.csv')\n",
    "test_df = pd.read_csv(pathTestLabels)\n",
    "Xtest = []\n",
    "Ytest = test_df['labels']\n",
    "\n",
    "for img in os.listdir(pathTestData):\n",
    "    img_path = os.path.join(pathTestData, img)\n",
    "    img_array = cv2.imread(img_path)\n",
    "    img_array = cv2.resize(img_array, (img_size, img_size))\n",
    "    Xtest.append(img_array)\n",
    "    "
   ]
  },
  {
   "cell_type": "code",
   "execution_count": 27,
   "id": "f4362d87",
   "metadata": {},
   "outputs": [],
   "source": [
    "Xtest = np.array(Xtest)\n",
    "Ytest = np.array(Ytest)"
   ]
  },
  {
   "cell_type": "code",
   "execution_count": 28,
   "id": "546244fc",
   "metadata": {},
   "outputs": [],
   "source": [
    "Xtest = Xtest / 255.0"
   ]
  },
  {
   "cell_type": "code",
   "execution_count": 30,
   "id": "851765b2",
   "metadata": {},
   "outputs": [
    {
     "name": "stdout",
     "output_type": "stream",
     "text": [
      "30/30 [==============================] - 1s 15ms/step\n",
      "Model predicts : \n",
      "[1 0 3 3 2 2 1 1 2 0 1 4 1 2 0 2 2 2 2 2 3 3 3 4 4 4 4 4 4 4]\n",
      "The truth is : \n",
      "[0 0 0 0 1 1 1 1 1 1 1 1 1 1 2 2 2 2 2 2 3 3 3 4 4 4 4 4 4 4]\n",
      "Right predictions :  20  out of  30\n",
      "Right predictions percentage :  66.66666666666666 %\n"
     ]
    }
   ],
   "source": [
    "array = model.predict(Xtest, batch_size=1, verbose=1)\n",
    "answer = np.argmax(array, axis=1)\n",
    "print(\"Model predicts : \")\n",
    "if(answer == 0):\n",
    "    return \n",
    ")\n",
    "print(answer)\n",
    "print(\"The ca is : \")\n",
    "print(Ytest)\n",
    "counter = 0;\n",
    "for i in range(len(answer)):\n",
    "    if(answer[i] == Ytest[i]):\n",
    "        counter +=1\n",
    "        \n",
    "        \n",
    "print(\"Right predictions : \", counter , \" out of \", len(Ytest))\n",
    "print(\"Right predictions percentage : \", counter / len(Ytest)*100.0, \"%\")"
   ]
  },
  {
   "cell_type": "code",
   "execution_count": null,
   "id": "6c6fed21",
   "metadata": {},
   "outputs": [],
   "source": []
  }
 ],
 "metadata": {
  "kernelspec": {
   "display_name": "Python 3 (ipykernel)",
   "language": "python",
   "name": "python3"
  },
  "language_info": {
   "codemirror_mode": {
    "name": "ipython",
    "version": 3
   },
   "file_extension": ".py",
   "mimetype": "text/x-python",
   "name": "python",
   "nbconvert_exporter": "python",
   "pygments_lexer": "ipython3",
   "version": "3.9.7"
  }
 },
 "nbformat": 4,
 "nbformat_minor": 5
}
