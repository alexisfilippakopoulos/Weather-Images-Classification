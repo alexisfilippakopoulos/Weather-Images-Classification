{
 "cells": [
  {
   "cell_type": "code",
   "execution_count": 128,
   "id": "a65da7f9",
   "metadata": {},
   "outputs": [],
   "source": [
    "import os\n",
    "import numpy as np\n",
    "import random\n",
    "import pandas as pd\n",
    "import cv2\n",
    "import matplotlib.pyplot as plt\n",
    "import tensorflow as tf\n",
    "from tensorflow.keras import layers\n",
    "from tensorflow.keras import Sequential"
   ]
  },
  {
   "cell_type": "code",
   "execution_count": 106,
   "id": "aad3856a",
   "metadata": {},
   "outputs": [],
   "source": [
    "pathGeneral = os.path.join(os.getcwd(), 'dataset')\n",
    "img_size = 200"
   ]
  },
  {
   "cell_type": "code",
   "execution_count": 107,
   "id": "54c8d77f",
   "metadata": {},
   "outputs": [
    {
     "name": "stdout",
     "output_type": "stream",
     "text": [
      "Found 1500 files belonging to 5 classes.\n",
      "Using 1200 files for training.\n"
     ]
    }
   ],
   "source": [
    "train_ds = tf.keras.utils.image_dataset_from_directory(\n",
    "  pathGeneral,\n",
    "  validation_split=0.2,\n",
    "  subset=\"training\",\n",
    "  seed=123,\n",
    "  image_size=(img_size, img_size),\n",
    "  batch_size=32)"
   ]
  },
  {
   "cell_type": "code",
   "execution_count": 108,
   "id": "960feb48",
   "metadata": {},
   "outputs": [
    {
     "name": "stdout",
     "output_type": "stream",
     "text": [
      "Found 1500 files belonging to 5 classes.\n",
      "Using 300 files for validation.\n"
     ]
    }
   ],
   "source": [
    "val_ds = tf.keras.utils.image_dataset_from_directory(\n",
    "  pathGeneral,\n",
    "  validation_split=0.2,\n",
    "  subset=\"validation\",\n",
    "  seed=123,\n",
    "  image_size=(img_size, img_size),\n",
    "  batch_size=32)"
   ]
  },
  {
   "cell_type": "code",
   "execution_count": 109,
   "id": "705b7966",
   "metadata": {},
   "outputs": [],
   "source": [
    "class_names = train_ds.class_names"
   ]
  },
  {
   "cell_type": "code",
   "execution_count": 110,
   "id": "726db339",
   "metadata": {},
   "outputs": [],
   "source": [
    "normalization_layer = layers.Rescaling(1/255.0)"
   ]
  },
  {
   "cell_type": "code",
   "execution_count": 111,
   "id": "0c2414c6",
   "metadata": {},
   "outputs": [],
   "source": [
    "normalized_ds = train_ds.map(lambda x, y: (normalization_layer(x), y))\n",
    "image_batch, labels_batch = next(iter(normalized_ds))"
   ]
  },
  {
   "cell_type": "code",
   "execution_count": 112,
   "id": "706ad88f",
   "metadata": {},
   "outputs": [],
   "source": [
    "num_classes = len(class_names)"
   ]
  },
  {
   "cell_type": "code",
   "execution_count": 113,
   "id": "8cfd9503",
   "metadata": {},
   "outputs": [],
   "source": [
    "model = Sequential([\n",
    "  layers.Rescaling(1./255, input_shape=(img_size, img_size, 3)),\n",
    "  layers.Conv2D(16, 3, padding='same', activation='relu'),\n",
    "  layers.MaxPooling2D(),\n",
    "  layers.Conv2D(32, 3, padding='same', activation='relu'),\n",
    "  layers.MaxPooling2D(),\n",
    "  layers.Conv2D(64, 3, padding='same', activation='relu'),\n",
    "  layers.MaxPooling2D(),\n",
    "  layers.Flatten(),\n",
    "  layers.Dense(128, activation='relu'),\n",
    "  layers.Dense(num_classes)\n",
    "])"
   ]
  },
  {
   "cell_type": "code",
   "execution_count": 114,
   "id": "9016ef66",
   "metadata": {},
   "outputs": [],
   "source": [
    "model.compile(optimizer='adam', loss=tf.keras.losses.SparseCategoricalCrossentropy(from_logits=True), metrics=['accuracy'])"
   ]
  },
  {
   "cell_type": "code",
   "execution_count": 115,
   "id": "84e15d66",
   "metadata": {},
   "outputs": [
    {
     "name": "stdout",
     "output_type": "stream",
     "text": [
      "Model: \"sequential_8\"\n",
      "_________________________________________________________________\n",
      " Layer (type)                Output Shape              Param #   \n",
      "=================================================================\n",
      " rescaling_14 (Rescaling)    (None, 200, 200, 3)       0         \n",
      "                                                                 \n",
      " conv2d_24 (Conv2D)          (None, 200, 200, 16)      448       \n",
      "                                                                 \n",
      " max_pooling2d_24 (MaxPoolin  (None, 100, 100, 16)     0         \n",
      " g2D)                                                            \n",
      "                                                                 \n",
      " conv2d_25 (Conv2D)          (None, 100, 100, 32)      4640      \n",
      "                                                                 \n",
      " max_pooling2d_25 (MaxPoolin  (None, 50, 50, 32)       0         \n",
      " g2D)                                                            \n",
      "                                                                 \n",
      " conv2d_26 (Conv2D)          (None, 50, 50, 64)        18496     \n",
      "                                                                 \n",
      " max_pooling2d_26 (MaxPoolin  (None, 25, 25, 64)       0         \n",
      " g2D)                                                            \n",
      "                                                                 \n",
      " flatten_8 (Flatten)         (None, 40000)             0         \n",
      "                                                                 \n",
      " dense_16 (Dense)            (None, 128)               5120128   \n",
      "                                                                 \n",
      " dense_17 (Dense)            (None, 5)                 645       \n",
      "                                                                 \n",
      "=================================================================\n",
      "Total params: 5,144,357\n",
      "Trainable params: 5,144,357\n",
      "Non-trainable params: 0\n",
      "_________________________________________________________________\n"
     ]
    }
   ],
   "source": [
    "model.summary()"
   ]
  },
  {
   "cell_type": "code",
   "execution_count": 117,
   "id": "964b5f30",
   "metadata": {},
   "outputs": [
    {
     "name": "stdout",
     "output_type": "stream",
     "text": [
      "Epoch 1/10\n",
      "38/38 [==============================] - 18s 475ms/step - loss: 1.0216 - accuracy: 0.6108 - val_loss: 0.8462 - val_accuracy: 0.6867\n",
      "Epoch 2/10\n",
      "38/38 [==============================] - 18s 463ms/step - loss: 0.6718 - accuracy: 0.7550 - val_loss: 0.7080 - val_accuracy: 0.7767\n",
      "Epoch 3/10\n",
      "38/38 [==============================] - 18s 481ms/step - loss: 0.5236 - accuracy: 0.8067 - val_loss: 1.0237 - val_accuracy: 0.7133\n",
      "Epoch 4/10\n",
      "38/38 [==============================] - 19s 497ms/step - loss: 0.4534 - accuracy: 0.8258 - val_loss: 0.6406 - val_accuracy: 0.7633\n",
      "Epoch 5/10\n",
      "38/38 [==============================] - 18s 473ms/step - loss: 0.3664 - accuracy: 0.8625 - val_loss: 0.6797 - val_accuracy: 0.8033\n",
      "Epoch 6/10\n",
      "38/38 [==============================] - 18s 468ms/step - loss: 0.2773 - accuracy: 0.8925 - val_loss: 0.9207 - val_accuracy: 0.8000\n",
      "Epoch 7/10\n",
      "38/38 [==============================] - 19s 490ms/step - loss: 0.2370 - accuracy: 0.9167 - val_loss: 0.9050 - val_accuracy: 0.7100\n",
      "Epoch 8/10\n",
      "38/38 [==============================] - 18s 468ms/step - loss: 0.2158 - accuracy: 0.9250 - val_loss: 0.6754 - val_accuracy: 0.7767\n",
      "Epoch 9/10\n",
      "38/38 [==============================] - 18s 477ms/step - loss: 0.1172 - accuracy: 0.9642 - val_loss: 0.7675 - val_accuracy: 0.8133\n",
      "Epoch 10/10\n",
      "38/38 [==============================] - 18s 470ms/step - loss: 0.1038 - accuracy: 0.9667 - val_loss: 0.8337 - val_accuracy: 0.8167\n"
     ]
    }
   ],
   "source": [
    "modelo = model.fit(train_ds, validation_data=val_ds, epochs=10)"
   ]
  },
  {
   "cell_type": "code",
   "execution_count": 119,
   "id": "e640b816",
   "metadata": {},
   "outputs": [
    {
     "name": "stdout",
     "output_type": "stream",
     "text": [
      "10/10 [==============================] - 1s 75ms/step - loss: 0.8337 - accuracy: 0.8167\n",
      "Accuracy: 81.66666626930237\n"
     ]
    }
   ],
   "source": [
    "print('Accuracy:', model.evaluate(val_ds)[1]*100)"
   ]
  },
  {
   "cell_type": "code",
   "execution_count": 120,
   "id": "b8c9e363",
   "metadata": {},
   "outputs": [
    {
     "data": {
      "image/png": "[encoded data removed]",
      "text/plain": [
       "<Figure size 576x576 with 2 Axes>"
      ]
     },
     "metadata": {
      "needs_background": "light"
     },
     "output_type": "display_data"
    }
   ],
   "source": [
    "acc = modelo.history['accuracy']\n",
    "val_acc = modelo.history['val_accuracy']\n",
    "\n",
    "loss = modelo.history['loss']\n",
    "val_loss = modelo.history['val_loss']\n",
    "\n",
    "epochs_range = range(10)\n",
    "\n",
    "plt.figure(figsize=(8, 8))\n",
    "plt.subplot(1, 2, 1)\n",
    "plt.plot(epochs_range, acc, label='Training Accuracy')\n",
    "plt.plot(epochs_range, val_acc, label='Validation Accuracy')\n",
    "plt.legend(loc='lower right')\n",
    "plt.title('Training and Validation Accuracy')\n",
    "\n",
    "plt.subplot(1, 2, 2)\n",
    "plt.plot(epochs_range, loss, label='Training Loss')\n",
    "plt.plot(epochs_range, val_loss, label='Validation Loss')\n",
    "plt.legend(loc='upper right')\n",
    "plt.title('Training and Validation Loss')\n",
    "plt.show()"
   ]
  },
  {
   "cell_type": "code",
   "execution_count": 143,
   "id": "ac7ab905",
   "metadata": {},
   "outputs": [],
   "source": [
    "pathTestData = os.path.join(os.getcwd(),'alien_test')\n",
    "pathTestLabels = os.path.join(os.getcwd(),'test.csv')\n",
    "test_df = pd.read_csv(pathTestLabels)\n",
    "Xtest = []\n",
    "Ytest = test_df['labels']\n",
    "\n",
    "for img in os.listdir(pathTestData):\n",
    "    img_path = os.path.join(pathTestData, img)\n",
    "    img_array = cv2.imread(img_path)\n",
    "    img_array = cv2.resize(img_array, (img_size, img_size))\n",
    "    Xtest.append(img_array)\n",
    "    \n"
   ]
  },
  {
   "cell_type": "code",
   "execution_count": 145,
   "id": "dbf0e358",
   "metadata": {},
   "outputs": [],
   "source": [
    "Xtest = np.array(Xtest)\n",
    "Ytest = np.array(Ytest)"
   ]
  },
  {
   "cell_type": "code",
   "execution_count": 159,
   "id": "00c6cd7a",
   "metadata": {},
   "outputs": [
    {
     "name": "stdout",
     "output_type": "stream",
     "text": [
      "30/30 [==============================] - 0s 9ms/step\n",
      "Model predicts : \n",
      "[2 2 4 4 1 1 1 0 0 0 0 1 4 1 2 2 2 4 2 1 4 4 4 2 1 2 1 3 1 1]\n",
      "The truth is : \n",
      "[0 0 0 0 1 1 1 1 1 1 1 1 1 1 2 2 2 2 2 2 3 3 3 4 4 4 4 4 4 4]\n",
      "Right predictions :  9  out of  30\n",
      "Right predictions percentage :  30.0 %\n"
     ]
    }
   ],
   "source": [
    "array = model.predict(Xtest, batch_size=1, verbose=1)\n",
    "answer = np.argmax(array, axis=1)\n",
    "print(\"Model predicts : \")\n",
    "print(answer)\n",
    "print(\"The truth is : \")\n",
    "print(Ytest)\n",
    "counter = 0;\n",
    "for i in range(len(answer)):\n",
    "    if(answer[i] == Ytest[i]):\n",
    "        counter +=1\n",
    "        \n",
    "        \n",
    "print(\"Right predictions : \", counter , \" out of \", len(Ytest))\n",
    "print(\"Right predictions percentage : \", counter / len(Ytest)*100.0, \"%\")"
   ]
  },
  {
   "cell_type": "code",
   "execution_count": null,
   "id": "eba91c06",
   "metadata": {},
   "outputs": [],
   "source": []
  }
 ],
 "metadata": {
  "kernelspec": {
   "display_name": "Python 3 (ipykernel)",
   "language": "python",
   "name": "python3"
  },
  "language_info": {
   "codemirror_mode": {
    "name": "ipython",
    "version": 3
   },
   "file_extension": ".py",
   "mimetype": "text/x-python",
   "name": "python",
   "nbconvert_exporter": "python",
   "pygments_lexer": "ipython3",
   "version": "3.9.7"
  }
 },
 "nbformat": 4,
 "nbformat_minor": 5
}
